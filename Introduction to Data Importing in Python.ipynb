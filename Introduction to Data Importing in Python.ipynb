{
 "cells": [
  {
   "cell_type": "code",
   "execution_count": 1,
   "id": "3cdfe422",
   "metadata": {},
   "outputs": [],
   "source": [
    "# first import the necessary libraries\n",
    "import numpy as np\n",
    "import pandas as pd"
   ]
  },
  {
   "cell_type": "markdown",
   "id": "ed2f59a5",
   "metadata": {},
   "source": [
    "### From .txt files"
   ]
  },
  {
   "cell_type": "code",
   "execution_count": 5,
   "id": "35e07746",
   "metadata": {},
   "outputs": [
    {
     "name": "stdout",
     "output_type": "stream",
     "text": [
      "The 5-Second Rule (2017) is a top-notch guide on overcoming self-doubt and living a more fulfilled life. It\n",
      "gives you a simple strategy that counteracts most of your brain's psychological defenses against action,\n",
      "allowing you to delay less, live happier, and achieve your goals.\n",
      "Mel Robbins, the author, is a motivational speaker and television broadcaster from the United States. She offers a straightforward and efficient one-size-fits-all answer to the problem of holding yourself back. You'll discover that the key isn't knowing what to do, but rather how to force oneself to do it.\n",
      "\n",
      "\n"
     ]
    }
   ],
   "source": [
    "filename = r'C:\\Users\\Mairaj-PC\\Downloads\\text.txt'\n",
    "file = open(filename, mode = 'r')\n",
    "text = file.read()\n",
    "file.close()\n",
    "print(text)"
   ]
  },
  {
   "cell_type": "code",
   "execution_count": 6,
   "id": "301d590c",
   "metadata": {},
   "outputs": [
    {
     "name": "stdout",
     "output_type": "stream",
     "text": [
      "The 5-Second Rule (2017) is a top-notch guide on overcoming self-doubt and living a more fulfilled life. It\n",
      "\n"
     ]
    }
   ],
   "source": [
    "# import the text file by using 'with' command\n",
    "with open (filename, 'r') as file:\n",
    "    print(file.readline())"
   ]
  },
  {
   "cell_type": "code",
   "execution_count": 7,
   "id": "da0d826b",
   "metadata": {},
   "outputs": [
    {
     "name": "stdout",
     "output_type": "stream",
     "text": [
      "[  0.   0.   0.   0.   0.   0.   0.   0.   0.   0.   0.   0.   0.   0.\n",
      "   0.   0.   0.   0.   0.   0.   0.   0.   0.   0.   0.   0.   0.   0.\n",
      "   0.   0.   0.   0.   0. 188. 255.  94.   0.   0.   0.   0.   0.   0.\n",
      "   0.   0.   0.   0.   0.   0.   0.   0.]\n"
     ]
    }
   ],
   "source": [
    "new_file = r'C:\\Users\\Mairaj-PC\\Downloads\\np_del_data.txt'\n",
    "np_data = np.loadtxt(new_file, delimiter = ',')\n",
    "print(np_data[100:150])"
   ]
  },
  {
   "cell_type": "markdown",
   "id": "013a3369",
   "metadata": {},
   "source": [
    "###  From .csv files"
   ]
  },
  {
   "cell_type": "code",
   "execution_count": 8,
   "id": "7e003fe1",
   "metadata": {},
   "outputs": [
    {
     "name": "stdout",
     "output_type": "stream",
     "text": [
      "[(2001,  9.8, 6.4, nan, 5.7, 7.2, 4.7, 5.3, 4.8, 4.6, 4. , nan, 4.3, nan)\n",
      " (2002, 10.5, 7.1, nan, 6.3, 8. , 5.4, 5.8, 5.3, 5.1, 4.2, nan, 4.6, nan)\n",
      " (2003, 11.8, 7.8, nan, 7.1, 8.9, 6.2, 6.5, 6. , 5.5, 4.9, nan, 5. , nan)\n",
      " (2004, 13.4, 8.5, nan, 7.9, 9.9, 6.8, 7.1, 6.4, 5.9, 5.4, nan, 5.5, nan)]\n"
     ]
    }
   ],
   "source": [
    "csv_file = r'C:\\Users\\Mairaj-PC\\Downloads\\data.csv'\n",
    "np_data_new = np.genfromtxt(csv_file, delimiter = ',', names = True, dtype = None)\n",
    "print(np_data_new[1:5])"
   ]
  },
  {
   "cell_type": "code",
   "execution_count": 9,
   "id": "8182060e",
   "metadata": {},
   "outputs": [
    {
     "name": "stdout",
     "output_type": "stream",
     "text": [
      "       CMU  MIT  UW  Stanford  Berkeley  Illinois  San Diego  Maryland  \\\n",
      "Date                                                                     \n",
      "2000   8.9  5.8 NaN       5.1       6.3       4.3        4.7       4.4   \n",
      "2001   9.8  6.4 NaN       5.7       7.2       4.7        5.3       4.8   \n",
      "2002  10.5  7.1 NaN       6.3       8.0       5.4        5.8       5.3   \n",
      "\n",
      "      Georgia Tech  Cornell  Michigan  Columbia  Texas  \n",
      "Date                                                    \n",
      "2000           4.4      NaN       NaN       4.1    3.7  \n",
      "2001           4.6      4.0       NaN       4.3    NaN  \n",
      "2002           5.1      4.2       NaN       4.6    NaN  \n"
     ]
    }
   ],
   "source": [
    "# from pandas\n",
    "from_pd = pd.read_csv(csv_file, index_col = 0)\n",
    "print(from_pd.head(3))"
   ]
  },
  {
   "cell_type": "markdown",
   "id": "4b411cef",
   "metadata": {},
   "source": [
    "### From SAS files"
   ]
  },
  {
   "cell_type": "code",
   "execution_count": 10,
   "id": "4558a6d5",
   "metadata": {},
   "outputs": [
    {
     "name": "stdout",
     "output_type": "stream",
     "text": [
      "     YEAR     P           S\n",
      "0  1950.0  12.9  181.899994\n",
      "1  1951.0  11.9  245.000000\n",
      "2  1952.0  10.7  250.199997\n",
      "3  1953.0  11.3  265.899994\n",
      "4  1954.0  11.2  248.500000\n"
     ]
    }
   ],
   "source": [
    "from sas7bdat import SAS7BDAT\n",
    "\n",
    "with SAS7BDAT(r'C:\\Users\\Mairaj-PC\\Downloads\\sales.sas7bdat') as file:\n",
    "    df_sas = file.to_data_frame()\n",
    "\n",
    "print(df_sas.head())"
   ]
  },
  {
   "cell_type": "markdown",
   "id": "b4e8d9eb",
   "metadata": {},
   "source": [
    "### From Stata files"
   ]
  },
  {
   "cell_type": "code",
   "execution_count": 11,
   "id": "d5730895",
   "metadata": {},
   "outputs": [
    {
     "name": "stdout",
     "output_type": "stream",
     "text": [
      "  wbcode      country  disa1  disa2  disa3  disa4  disa5  disa6  disa7  disa8  \\\n",
      "0    AFG  Afghanistan   0.00   0.00   0.76   0.73    0.0    0.0   0.00    0.0   \n",
      "1    AGO       Angola   0.32   0.02   0.56   0.00    0.0    0.0   0.56    0.0   \n",
      "\n",
      "   ...  disa16  disa17  disa18  disa19  disa20  disa21  disa22  disa23  \\\n",
      "0  ...     0.0     0.0     0.0    0.00     0.0     0.0    0.00    0.02   \n",
      "1  ...     0.0     0.4     0.0    0.61     0.0     0.0    0.99    0.98   \n",
      "\n",
      "   disa24  disa25  \n",
      "0    0.00     0.0  \n",
      "1    0.61     0.0  \n",
      "\n",
      "[2 rows x 27 columns]\n"
     ]
    }
   ],
   "source": [
    "# stata file\n",
    "stata_data = pd.read_stata(r'C:\\Users\\Mairaj-PC\\Downloads\\disarea.dta')\n",
    "print(stata_data.head(2))"
   ]
  },
  {
   "cell_type": "markdown",
   "id": "4cc0245c",
   "metadata": {},
   "source": [
    "### From HDF5 source format"
   ]
  },
  {
   "cell_type": "code",
   "execution_count": 12,
   "id": "f6e14033",
   "metadata": {},
   "outputs": [],
   "source": [
    "import h5py"
   ]
  },
  {
   "cell_type": "code",
   "execution_count": 13,
   "id": "91b3523e",
   "metadata": {},
   "outputs": [
    {
     "name": "stdout",
     "output_type": "stream",
     "text": [
      "<class 'h5py._hl.files.File'>\n"
     ]
    }
   ],
   "source": [
    "h5py_file = r'C:\\Users\\Mairaj-PC\\Downloads\\L-L1_LOSC_4_V1-1126259446-32.hdf5'\n",
    "\n",
    "# Now read the file\n",
    "data = h5py.File(h5py_file, 'r')\n",
    "print(type(data))"
   ]
  },
  {
   "cell_type": "code",
   "execution_count": 14,
   "id": "75f83786",
   "metadata": {},
   "outputs": [
    {
     "name": "stdout",
     "output_type": "stream",
     "text": [
      "meta\n",
      "quality\n",
      "strain\n"
     ]
    }
   ],
   "source": [
    "for key in data.keys():\n",
    "    print(key)"
   ]
  },
  {
   "cell_type": "markdown",
   "id": "f2c0b038",
   "metadata": {},
   "source": [
    "### From MATLAB files"
   ]
  },
  {
   "cell_type": "code",
   "execution_count": 15,
   "id": "e46286b6",
   "metadata": {},
   "outputs": [],
   "source": [
    "import scipy.io"
   ]
  },
  {
   "cell_type": "code",
   "execution_count": 16,
   "id": "fbdbe147",
   "metadata": {},
   "outputs": [
    {
     "name": "stdout",
     "output_type": "stream",
     "text": [
      "<class 'dict'>\n"
     ]
    }
   ],
   "source": [
    "# from matlab\n",
    "mat_file = r'C:\\Users\\Mairaj-PC\\Downloads\\ja_data2.mat'\n",
    "data = scipy.io.loadmat(mat_file)\n",
    "print(type(data))"
   ]
  },
  {
   "cell_type": "code",
   "execution_count": 17,
   "id": "b74773d9",
   "metadata": {},
   "outputs": [
    {
     "name": "stdout",
     "output_type": "stream",
     "text": [
      "__header__\n",
      "__version__\n",
      "__globals__\n",
      "rfpCyt\n",
      "rfpNuc\n",
      "cfpNuc\n",
      "cfpCyt\n",
      "yfpNuc\n",
      "yfpCyt\n",
      "CYratioCyt\n"
     ]
    }
   ],
   "source": [
    "for key in data.keys():\n",
    "    print(key)"
   ]
  },
  {
   "cell_type": "code",
   "execution_count": 18,
   "id": "5d774ad5",
   "metadata": {},
   "outputs": [
    {
     "name": "stdout",
     "output_type": "stream",
     "text": [
      "b'MATLAB 5.0 MAT-file, Platform: PCWIN64, Created on: Tue Nov 24 17:35:19 2015'\n",
      "1.0\n",
      "[]\n",
      "[[  0.         238.62933333 238.62264151 ... 250.17403315 249.05801105\n",
      "  251.3489011 ]\n",
      " [  0.         291.7718254  292.006      ... 269.99239544 271.32044199\n",
      "  271.26086957]\n",
      " [  0.         252.45212766 253.34851138 ... 225.76428571 224.02909091\n",
      "  226.38103757]\n",
      " ...\n",
      " [  0.           0.           0.         ...   0.           0.\n",
      "    0.        ]\n",
      " [  0.         373.45756458 377.05420561 ...   0.           0.\n",
      "    0.        ]\n",
      " [  0.         415.25079365   0.         ... 407.76514032 402.54331865\n",
      "  409.40528634]]\n",
      "[[  0.         183.34256055 187.84859155 ... 200.62101911 198.79566563\n",
      "  201.73566879]\n",
      " [  0.         191.7195122  189.11340206 ... 183.73829787 187.35918367\n",
      "  189.04320988]\n",
      " [  0.         174.97307692 174.79961464 ... 157.78478664 157.32887189\n",
      "  157.59962049]\n",
      " ...\n",
      " [  0.           0.           0.         ...   0.           0.\n",
      "    0.        ]\n",
      " [  0.         247.48251748 249.63270142 ...   0.           0.\n",
      "    0.        ]\n",
      " [  0.         280.50465839   0.         ... 249.66157761 247.85316456\n",
      "  250.16287879]]\n",
      "[[  0.         844.75086505 874.15492958 ... 710.70382166 715.50154799\n",
      "  727.59872611]\n",
      " [  0.         643.34878049 641.84020619 ... 583.27021277 603.84897959\n",
      "  608.45679012]\n",
      " [  0.         487.2        486.08863198 ... 435.80705009 431.29063098\n",
      "  439.29222011]\n",
      " ...\n",
      " [  0.           0.           0.         ...   0.           0.\n",
      "    0.        ]\n",
      " [  0.         535.31235431 541.69194313 ...   0.           0.\n",
      "    0.        ]\n",
      " [  0.         793.31832298   0.         ... 584.53435115 577.9835443\n",
      "  599.96085859]]\n",
      "[[   0.         1519.37866667 1518.73045822 ... 1354.96132597\n",
      "  1352.75966851 1367.18681319]\n",
      " [   0.         1175.74007937 1176.164      ... 1098.57984791\n",
      "  1109.05893186 1111.66847826]\n",
      " [   0.          856.7535461   856.88091068 ...  736.54821429\n",
      "   738.08909091  746.82110912]\n",
      " ...\n",
      " [   0.            0.            0.         ...    0.\n",
      "     0.            0.        ]\n",
      " [   0.          908.85424354  920.44859813 ...    0.\n",
      "     0.            0.        ]\n",
      " [   0.         1256.34603175    0.         ... 1128.29542097\n",
      "  1122.6328928  1170.41703377]]\n",
      "[[  0.         532.3633218  551.92253521 ... 495.13375796 497.89783282\n",
      "  507.28025478]\n",
      " [  0.         448.39268293 448.56958763 ... 399.82553191 417.9244898\n",
      "  421.81069959]\n",
      " [  0.         307.85576923 308.32177264 ... 283.20222635 281.00382409\n",
      "  285.47628083]\n",
      " ...\n",
      " [  0.           0.           0.         ...   0.           0.\n",
      "    0.        ]\n",
      " [  0.         326.36363636 330.20379147 ...   0.           0.\n",
      "    0.        ]\n",
      " [  0.         502.60869565   0.         ... 418.83842239 417.3721519\n",
      "  426.93434343]]\n",
      "[[  0.         951.432      944.48787062 ... 939.66022099 936.\n",
      "  949.12912088]\n",
      " [  0.         840.49801587 836.542      ... 767.11596958 781.38489871\n",
      "  780.76811594]\n",
      " [  0.         578.08865248 577.66725044 ... 509.98035714 512.38181818\n",
      "  515.31127013]\n",
      " ...\n",
      " [  0.           0.           0.         ...   0.           0.\n",
      "    0.        ]\n",
      " [  0.         577.48708487 590.89719626 ...   0.           0.\n",
      "    0.        ]\n",
      " [  0.         812.01904762   0.         ... 901.44756278 896.88399413\n",
      "  920.85756241]]\n",
      "[[0.         1.53071547 1.54297013 ... 1.34990123 1.35329984 1.34922173]\n",
      " [0.         1.28605578 1.29385656 ... 1.31307311 1.30039694 1.30563938]\n",
      " [0.         1.32731222 1.32884617 ... 1.24887565 1.24506205 1.25825831]\n",
      " ...\n",
      " [0.         0.         0.         ... 0.         0.         0.        ]\n",
      " [0.         1.44552606 1.42862357 ... 0.         0.         0.        ]\n",
      " [0.         1.45794466 0.         ... 1.1229479  1.12224652 1.1486481 ]]\n"
     ]
    }
   ],
   "source": [
    "for value in data.values():\n",
    "    print(value)"
   ]
  },
  {
   "cell_type": "markdown",
   "id": "25d66fc0",
   "metadata": {},
   "source": [
    "### From JSON files"
   ]
  },
  {
   "cell_type": "code",
   "execution_count": 19,
   "id": "751e4022",
   "metadata": {},
   "outputs": [],
   "source": [
    "import json"
   ]
  },
  {
   "cell_type": "code",
   "execution_count": 20,
   "id": "651f87e5",
   "metadata": {},
   "outputs": [
    {
     "name": "stdout",
     "output_type": "stream",
     "text": [
      "[{'sepalLength': 4.9, 'sepalWidth': 3.0, 'petalLength': 1.4, 'petalWidth': 0.2, 'species': 'setosa'}, {'sepalLength': 4.7, 'sepalWidth': 3.2, 'petalLength': 1.3, 'petalWidth': 0.2, 'species': 'setosa'}]\n"
     ]
    }
   ],
   "source": [
    "file = r'C:\\Users\\Mairaj-PC\\Downloads\\iris.json'\n",
    "with open(file, 'r') as json_file:\n",
    "    json_data = json.load(json_file)\n",
    "print(json_data[1:3])"
   ]
  }
 ],
 "metadata": {
  "kernelspec": {
   "display_name": "Python 3",
   "language": "python",
   "name": "python3"
  },
  "language_info": {
   "codemirror_mode": {
    "name": "ipython",
    "version": 3
   },
   "file_extension": ".py",
   "mimetype": "text/x-python",
   "name": "python",
   "nbconvert_exporter": "python",
   "pygments_lexer": "ipython3",
   "version": "3.6.8"
  }
 },
 "nbformat": 4,
 "nbformat_minor": 5
}
